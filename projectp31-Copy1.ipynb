{
 "cells": [
  {
   "cell_type": "code",
   "execution_count": 3,
   "id": "bafbd545",
   "metadata": {},
   "outputs": [],
   "source": [
    "import pymysql"
   ]
  },
  {
   "cell_type": "code",
   "execution_count": 4,
   "id": "a8bf0a8e",
   "metadata": {},
   "outputs": [],
   "source": [
    "mydb=pymysql.connect(\n",
    " host=\"localhost\",\n",
    " port= 3306,\n",
    " user=\"root\",\n",
    " password=\"1234\"\n",
    ")\n",
    "mycursor=mydb.cursor()"
   ]
  },
  {
   "cell_type": "code",
   "execution_count": 15,
   "id": "e2a8bf48",
   "metadata": {},
   "outputs": [
    {
     "name": "stdout",
     "output_type": "stream",
     "text": [
      "('employee_details',)\n",
      "('employee_details2',)\n",
      "('information_schema',)\n",
      "('mysql',)\n",
      "('oxforduni',)\n",
      "('performance_schema',)\n",
      "('sakila',)\n",
      "('sys',)\n",
      "('world',)\n"
     ]
    }
   ],
   "source": [
    "mycursor.execute(\"show databases\")\n",
    "for x in mycursor:\n",
    "    print(x)"
   ]
  },
  {
   "cell_type": "code",
   "execution_count": 18,
   "id": "0dd94674",
   "metadata": {},
   "outputs": [
    {
     "name": "stdout",
     "output_type": "stream",
     "text": [
      "('employee_details',)\n",
      "('employee_details2',)\n",
      "('hotel_reservation_system',)\n",
      "('information_schema',)\n",
      "('mysql',)\n",
      "('oxforduni',)\n",
      "('performance_schema',)\n",
      "('sakila',)\n",
      "('sys',)\n",
      "('world',)\n"
     ]
    }
   ],
   "source": [
    "mycursor.execute(\"create database Hotel_reservation_system\")\n",
    "mycursor.execute(\"show databases\")\n",
    "for x in mycursor:\n",
    "    print(x)"
   ]
  },
  {
   "cell_type": "code",
   "execution_count": 23,
   "id": "87104de4",
   "metadata": {},
   "outputs": [
    {
     "name": "stdout",
     "output_type": "stream",
     "text": [
      "('reservation_id', 'int', 'NO', 'PRI', None, '')\n",
      "('name', 'varchar(200)', 'NO', '', None, '')\n",
      "('gender', 'varchar(50)', 'NO', '', None, '')\n",
      "('Email', 'text', 'NO', '', None, '')\n"
     ]
    }
   ],
   "source": [
    "mycursor.execute(\"use hotel_reservation_system\")\n",
    "mycursor.execute(\"create table Guest_info(reservation_id INT primary key not null, name VARCHAR(200) NOT NULL,gender VARCHAR(50) NOT NULL, Email TEXT NOT NULL)\")\n",
    "mycursor.execute(\"show columns from guest_info\")\n",
    "for x in mycursor:\n",
    "    print(x)"
   ]
  },
  {
   "cell_type": "code",
   "execution_count": 6,
   "id": "0baaae9a",
   "metadata": {},
   "outputs": [],
   "source": [
    "def accept_record():\n",
    "    reservation_id= int(input(\"Enter guest ID:\"))\n",
    "    name=input(\"guest name:\")\n",
    "    gender=input(\"guest gender(male/female/other):\")\n",
    "    Email=input(\"guest Email:\")\n",
    "    \n",
    "    query=\"insert into guest_info(reservation_id,name,gender,Email)value(%s,%s,%s,%s)\"\n",
    "    mycursor.execute(query,(reservation_id,name,gender,Email))\n",
    "    mydb.commit()\n",
    "    print(\"guest verification successfull\")\n",
    "    \n",
    "def search_record():\n",
    "    reservation_id=int(input(\"Enter guest ID:\"))\n",
    "    query='select* from guest_info where reservation_id =\"%\"'\n",
    "    mycursor.execute(query,(id,))\n",
    "    result=mycursor,fetchall()\n",
    "    if len(result)==0:\n",
    "        print(\"guest not found\")\n",
    "    else:\n",
    "        for x in result:\n",
    "            print(x)\n",
    "            \n",
    "def display_guess_info():\n",
    "           mycursor.execute(\"select*from guess_info\")\n",
    "           for x in mycursor:\n",
    "                print(x)\n",
    "def main():\n",
    "            print(\"|||||||welcome manager|||||||\")\n",
    "            print(\"hotel reservation system command[accept_record,search_record,display_guess_info,logout]\")\n",
    "            operation= True\n",
    "            while operation:\n",
    "                            option=input(\"select operation:\")\n",
    "                            if option== \"accept_record\".lower():\n",
    "                               accept_record()\n",
    "                            elif option == \"search__record\".lower():\n",
    "                                search_record\n",
    "                            elif option == \"display_guest_info\" .lower():\n",
    "                                   display_guest-info\n",
    "                            elif option == \"logout\" .lower():\n",
    "                                    operation= false\n",
    "                                    print(\"logout sucessful.....\")\n",
    "                                    break\n",
    "                                    \n",
    "                                   \n",
    "           \n",
    "    \n",
    "    "
   ]
  },
  {
   "cell_type": "code",
   "execution_count": null,
   "id": "75f1a9c5",
   "metadata": {},
   "outputs": [
    {
     "name": "stdout",
     "output_type": "stream",
     "text": [
      "|||||||welcome manager|||||||\n",
      "hotel reservation system command[accept_record,search_record,display_guess_info,logout]\n"
     ]
    }
   ],
   "source": [
    "main()"
   ]
  },
  {
   "cell_type": "code",
   "execution_count": null,
   "id": "59fc2567",
   "metadata": {},
   "outputs": [],
   "source": []
  }
 ],
 "metadata": {
  "kernelspec": {
   "display_name": "Python 3 (ipykernel)",
   "language": "python",
   "name": "python3"
  },
  "language_info": {
   "codemirror_mode": {
    "name": "ipython",
    "version": 3
   },
   "file_extension": ".py",
   "mimetype": "text/x-python",
   "name": "python",
   "nbconvert_exporter": "python",
   "pygments_lexer": "ipython3",
   "version": "3.11.5"
  }
 },
 "nbformat": 4,
 "nbformat_minor": 5
}
