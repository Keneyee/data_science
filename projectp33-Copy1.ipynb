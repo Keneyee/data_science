{
 "cells": [
  {
   "cell_type": "code",
   "execution_count": 1,
   "id": "c2f4fa3f",
   "metadata": {},
   "outputs": [],
   "source": [
    "import pymysql"
   ]
  },
  {
   "cell_type": "code",
   "execution_count": 2,
   "id": "8ebacdf2",
   "metadata": {},
   "outputs": [],
   "source": [
    "mydb=pymysql.connect(\n",
    " host=\"localhost\",\n",
    " port= 3306,\n",
    " user=\"root\",\n",
    " password=\"1234\"\n",
    ")\n",
    "mycursor=mydb.cursor()"
   ]
  },
  {
   "cell_type": "code",
   "execution_count": 3,
   "id": "4a90936b",
   "metadata": {},
   "outputs": [
    {
     "name": "stdout",
     "output_type": "stream",
     "text": [
      "('employee_details',)\n",
      "('employee_details2',)\n",
      "('hotel_reservation_system',)\n",
      "('information_schema',)\n",
      "('loan_request_managment_system',)\n",
      "('mysql',)\n",
      "('oxforduni',)\n",
      "('performance_schema',)\n",
      "('sakila',)\n",
      "('sys',)\n",
      "('world',)\n"
     ]
    }
   ],
   "source": [
    "mycursor.execute(\"show databases\")\n",
    "for x in mycursor:\n",
    "    print(x)"
   ]
  },
  {
   "cell_type": "code",
   "execution_count": 4,
   "id": "7a2a1be2",
   "metadata": {},
   "outputs": [
    {
     "name": "stdout",
     "output_type": "stream",
     "text": [
      "('employee_details',)\n",
      "('employee_details2',)\n",
      "('hospital_appointment_system',)\n",
      "('hotel_reservation_system',)\n",
      "('information_schema',)\n",
      "('loan_request_managment_system',)\n",
      "('mysql',)\n",
      "('oxforduni',)\n",
      "('performance_schema',)\n",
      "('sakila',)\n",
      "('sys',)\n",
      "('world',)\n"
     ]
    }
   ],
   "source": [
    "mycursor.execute(\"create database hospital_appointment_system\")\n",
    "mycursor.execute(\"show databases\")\n",
    "for x in mycursor:\n",
    "    print(x)"
   ]
  },
  {
   "cell_type": "code",
   "execution_count": 8,
   "id": "63fb2200",
   "metadata": {},
   "outputs": [
    {
     "name": "stdout",
     "output_type": "stream",
     "text": [
      "('name', 'varchar(200)', 'NO', '', None, '')\n",
      "('age', 'int', 'NO', '', None, '')\n",
      "('gender', 'varchar(60)', 'NO', '', None, '')\n"
     ]
    }
   ],
   "source": [
    "mycursor.execute(\"use hospital_appointment_system\")\n",
    "mycursor.execute(\"create table patientrecord(name varchar(200) not null, age int not null, gender varchar(60) not null)\")\n",
    "mycursor.execute(\"show columns from patientrecord\")\n",
    "for x in mycursor:\n",
    "    print(x)"
   ]
  },
  {
   "cell_type": "code",
   "execution_count": null,
   "id": "19e57fdc",
   "metadata": {},
   "outputs": [],
   "source": [
    "class patientrecord:\n",
    "    def __init__(self,name,age,gender,):\n",
    "        self.name=name\n",
    "        self.age=age\n",
    "        self.gender=gender\n",
    "    def start(self):\n",
    "        print(f'''__patient Record___\n",
    "        \"name\":{self.name}\n",
    "        \"age:{self.age}\n",
    "        \"gender\":{self.gender}\n",
    "        ''')\n",
    "    def hospitalbranch(self):\n",
    "        option=input(\"what is your state selection.[abuja,lagos,edo,kaduna]\")\n",
    "        if option==\"abuja\":\n",
    "            print(\"the amount abuja in dollar is $1000\")\n",
    "        elif option==\"lagos\":\n",
    "            print(\"the amount lagos in dollar is $900\")\n",
    "        elif option==\"edo\":\n",
    "            print(\"the amount edo in dollar is $600\")\n",
    "        elif option==\"kaduna\":\n",
    "            print(\"the amount kaduna in dollar is $50\")\n",
    "            \n",
    "    def appdate(self):\n",
    "            option=input(\"enter your date[yy/mm/dd]:\")\n",
    "            if option==\"2024\":\n",
    "                print(f'dear user your appointment is schedule')\n",
    "            \n",
    "    def bodymassindex(self):\n",
    "        height=float(input(\"Max what is your height in meters:\"))\n",
    "        weight=float(input(\"Max enter your weight in kg:\"))\n",
    "        bmi=weight/(height**2)\n",
    "        if bmi <18.5:\n",
    "            print(f\" your bmi is {bmi},you are underweihght,see your doctor\")\n",
    "        elif bmi >=18.5 and bmi <= 24.99:\n",
    "                print(f\" your bmi is {bmi},you are healthy\")\n",
    "        elif bmi >25 and bmi <= 30:\n",
    "            print(f\" your bmi is {bmi},you are overweihght,contact doctor\")\n",
    "        else:\n",
    "            print(f' your bmi is {bmi},we recommend you see your doctor immediately.')\n",
    "max=patientrecord(\"max\",30,\"gender\",)\n",
    "            "
   ]
  },
  {
   "cell_type": "code",
   "execution_count": 47,
   "id": "2992ca72",
   "metadata": {},
   "outputs": [
    {
     "name": "stdout",
     "output_type": "stream",
     "text": [
      "__patient Record___\n",
      "        \"name\":max\n",
      "        \"age:30\n",
      "        \"gender\":gender\n",
      "        \n"
     ]
    }
   ],
   "source": [
    "max.start()"
   ]
  },
  {
   "cell_type": "code",
   "execution_count": 48,
   "id": "dff707f8",
   "metadata": {},
   "outputs": [
    {
     "name": "stdout",
     "output_type": "stream",
     "text": [
      "what is your state selection.[abuja,lagos,edo,kaduna]abuja\n",
      "the amount abuja in dollar is $1000\n"
     ]
    }
   ],
   "source": [
    "max.hospitalbranch()"
   ]
  },
  {
   "cell_type": "code",
   "execution_count": 42,
   "id": "3831785a",
   "metadata": {},
   "outputs": [
    {
     "name": "stdout",
     "output_type": "stream",
     "text": [
      "enter your date[yy/mm/dd]:2024\n",
      "dear user your appointment is shedule\n"
     ]
    }
   ],
   "source": [
    "max.appdate()"
   ]
  },
  {
   "cell_type": "code",
   "execution_count": null,
   "id": "9adbbf8a",
   "metadata": {},
   "outputs": [],
   "source": [
    "max.bodymassindex()"
   ]
  },
  {
   "cell_type": "code",
   "execution_count": null,
   "id": "54d00ab2",
   "metadata": {},
   "outputs": [],
   "source": []
  }
 ],
 "metadata": {
  "kernelspec": {
   "display_name": "Python 3 (ipykernel)",
   "language": "python",
   "name": "python3"
  },
  "language_info": {
   "codemirror_mode": {
    "name": "ipython",
    "version": 3
   },
   "file_extension": ".py",
   "mimetype": "text/x-python",
   "name": "python",
   "nbconvert_exporter": "python",
   "pygments_lexer": "ipython3",
   "version": "3.11.5"
  }
 },
 "nbformat": 4,
 "nbformat_minor": 5
}
